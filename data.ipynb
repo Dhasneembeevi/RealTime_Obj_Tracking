{
 "cells": [
  {
   "cell_type": "code",
   "execution_count": 1,
   "id": "b1c9d210",
   "metadata": {},
   "outputs": [
    {
     "name": "stderr",
     "output_type": "stream",
     "text": [
      "d:\\MeNeM\\RealTimeObjDetection_and_Tracking\\.venv\\lib\\site-packages\\tqdm\\auto.py:21: TqdmWarning: IProgress not found. Please update jupyter and ipywidgets. See https://ipywidgets.readthedocs.io/en/stable/user_install.html\n",
      "  from .autonotebook import tqdm as notebook_tqdm\n",
      "d:\\MeNeM\\RealTimeObjDetection_and_Tracking\\.venv\\lib\\site-packages\\huggingface_hub\\file_download.py:143: UserWarning: `huggingface_hub` cache-system uses symlinks by default to efficiently store duplicated files but your machine does not support them in C:\\Users\\HP\\.cache\\huggingface\\hub\\datasets--coallaoh--COCO-AB. Caching files will still work but in a degraded version that might require more space on your disk. This warning can be disabled by setting the `HF_HUB_DISABLE_SYMLINKS_WARNING` environment variable. For more details, see https://huggingface.co/docs/huggingface_hub/how-to-cache#limitations.\n",
      "To support symlinks on Windows, you either need to activate Developer Mode or to run Python as an administrator. In order to activate developer mode, see this article: https://docs.microsoft.com/en-us/windows/apps/get-started/enable-your-device-for-development\n",
      "  warnings.warn(message)\n",
      "Generating train split: 100%|██████████| 82794/82794 [02:12<00:00, 626.16 examples/s]\n"
     ]
    },
    {
     "name": "stdout",
     "output_type": "stream",
     "text": [
      "{'imageHeight': 450, 'worker_id': '00AA3B5E80', 'imageWidth': 450, 'hit_id': '94c49a4ea144419c87bc7c201600aff9', 'image_id': 296169, 'originalImageHeight': 360, 'actionHistories': [{'actionType': 'add', 'iconType': 'cake', 'pointFrom': None, 'pointTo': {'x': 0.7883333333333331, 'y': 0.8377777777777771}, 'timeAt': 155755}, {'actionType': 'move', 'iconType': 'cake', 'pointFrom': {'x': 0.7883333333333331, 'y': 0.8377777777777771}, 'pointTo': {'x': 0.7016666666666661, 'y': 0.5444444444444441}, 'timeAt': 158789}], 'categoryHistories': [{'categoryIndex': 1, 'categoryName': 'Animal', 'timeAt': 144081, 'usingKeyboard': False}, {'categoryIndex': 2, 'categoryName': 'Vehicle', 'timeAt': 144161, 'usingKeyboard': False}, {'categoryIndex': 3, 'categoryName': 'OutdoorObj', 'timeAt': 144372, 'usingKeyboard': False}, {'categoryIndex': 4, 'categoryName': 'Sports', 'timeAt': 144495, 'usingKeyboard': False}, {'categoryIndex': 5, 'categoryName': 'Kitchenware', 'timeAt': 144693, 'usingKeyboard': False}, {'categoryIndex': 6, 'categoryName': 'Food', 'timeAt': 146670, 'usingKeyboard': False}, {'categoryIndex': 7, 'categoryName': 'Furniture', 'timeAt': 161014, 'usingKeyboard': False}, {'categoryIndex': 8, 'categoryName': 'Appliance', 'timeAt': 162227, 'usingKeyboard': False}, {'categoryIndex': 9, 'categoryName': 'Electronics', 'timeAt': 163058, 'usingKeyboard': False}, {'categoryIndex': 10, 'categoryName': 'IndoorObjects', 'timeAt': 164252, 'usingKeyboard': False}], 'page_id': 7, 'mouseTracking': [], 'originalImageWidth': 480, 'timeSpent': 168291}\n"
     ]
    }
   ],
   "source": [
    "from datasets import load_dataset\n",
    "\n",
    "# Load COCO-AB dataset from HuggingFace\n",
    "dataset = load_dataset(\"coallaoh/COCO-AB\")\n",
    "\n",
    "print(dataset[\"train\"][0])  # See one example"
   ]
  },
  {
   "cell_type": "code",
   "execution_count": null,
   "id": "28d32f6a",
   "metadata": {},
   "outputs": [],
   "source": [
    "annotations = dataset[\"train\"][\"annotations\"]\n",
    "\n",
    "all_categories = set()\n",
    "for ann_list in annotations:\n",
    "    for ann in ann_list:\n",
    "        all_categories.add(ann[\"category_name\"])\n",
    "\n",
    "print(sorted(all_categories))"
   ]
  }
 ],
 "metadata": {
  "kernelspec": {
   "display_name": ".venv",
   "language": "python",
   "name": "python3"
  },
  "language_info": {
   "codemirror_mode": {
    "name": "ipython",
    "version": 3
   },
   "file_extension": ".py",
   "mimetype": "text/x-python",
   "name": "python",
   "nbconvert_exporter": "python",
   "pygments_lexer": "ipython3",
   "version": "3.10.11"
  }
 },
 "nbformat": 4,
 "nbformat_minor": 5
}
